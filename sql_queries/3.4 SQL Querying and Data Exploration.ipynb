{
 "cells": [
  {
   "cell_type": "code",
   "execution_count": 0,
   "metadata": {
    "application/vnd.databricks.v1+cell": {
     "cellMetadata": {
      "byteLimit": 2048000,
      "rowLimit": 10000
     },
     "inputWidgets": {},
     "nuid": "152be5f7-45a1-4e9f-b463-772eda336fa9",
     "showTitle": false,
     "tableResultSettingsMap": {},
     "title": ""
    }
   },
   "outputs": [],
   "source": [
    "USE CATALOG `nokia-assginment-catalog`;"
   ]
  },
  {
   "cell_type": "markdown",
   "metadata": {
    "application/vnd.databricks.v1+cell": {
     "cellMetadata": {},
     "inputWidgets": {},
     "nuid": "6160b907-fca3-4673-ab80-f68b78ac183c",
     "showTitle": false,
     "tableResultSettingsMap": {},
     "title": ""
    }
   },
   "source": [
    "## Query 1: Total Number of Patents\n"
   ]
  },
  {
   "cell_type": "code",
   "execution_count": 0,
   "metadata": {
    "application/vnd.databricks.v1+cell": {
     "cellMetadata": {
      "byteLimit": 2048000,
      "rowLimit": 10000
     },
     "inputWidgets": {},
     "nuid": "66a4fa4c-404f-45dd-91c4-c600bae6a86c",
     "showTitle": false,
     "tableResultSettingsMap": {},
     "title": ""
    }
   },
   "outputs": [],
   "source": [
    "-- Simple count of all patent records\n",
    "SELECT COUNT(*) AS total_patents\n",
    "FROM patent_data.patents;"
   ]
  },
  {
   "cell_type": "markdown",
   "metadata": {
    "application/vnd.databricks.v1+cell": {
     "cellMetadata": {},
     "inputWidgets": {},
     "nuid": "fa036b2f-d93f-4d96-a515-8a0c06676040",
     "showTitle": false,
     "tableResultSettingsMap": {},
     "title": ""
    }
   },
   "source": [
    "## Query 2: Top 5 Patents with Most Claims\n"
   ]
  },
  {
   "cell_type": "code",
   "execution_count": 0,
   "metadata": {
    "application/vnd.databricks.v1+cell": {
     "cellMetadata": {
      "byteLimit": 2048000,
      "rowLimit": 10000
     },
     "inputWidgets": {},
     "nuid": "066290a5-e44b-4dc7-a4e8-1a5dd6ec80ab",
     "showTitle": false,
     "tableResultSettingsMap": {},
     "title": ""
    }
   },
   "outputs": [],
   "source": [
    "SELECT p.publication_number, \n",
    "       p.invention_title,\n",
    "       COUNT(c.claim_id) AS claim_count\n",
    "FROM patent_data.patents p\n",
    "JOIN patent_data.claims_individual c\n",
    "  ON p.publication_number = c.publication_number\n",
    "GROUP BY p.publication_number, p.invention_title\n",
    "ORDER BY claim_count DESC\n",
    "LIMIT 5;"
   ]
  },
  {
   "cell_type": "markdown",
   "metadata": {
    "application/vnd.databricks.v1+cell": {
     "cellMetadata": {},
     "inputWidgets": {},
     "nuid": "0e6614ef-6ec3-454a-aed9-0b74140e9fea",
     "showTitle": false,
     "tableResultSettingsMap": {},
     "title": ""
    }
   },
   "source": [
    "## Query 3: Top 10 CPC Section & Class Combinations with Highest Average Claims"
   ]
  },
  {
   "cell_type": "code",
   "execution_count": 0,
   "metadata": {
    "application/vnd.databricks.v1+cell": {
     "cellMetadata": {
      "byteLimit": 2048000,
      "rowLimit": 10000
     },
     "inputWidgets": {},
     "nuid": "90e10348-8679-4953-964b-c57491abdd47",
     "showTitle": false,
     "tableResultSettingsMap": {},
     "title": ""
    }
   },
   "outputs": [],
   "source": [
    "WITH patent_claims AS (\n",
    "    SELECT \n",
    "        p.cpc_section,\n",
    "        p.cpc_class,\n",
    "        p.publication_number,\n",
    "        COUNT(c.claim_id) AS claim_count\n",
    "    FROM patent_data.patents p\n",
    "    JOIN patent_data.claims_individual c\n",
    "      ON p.publication_number = c.publication_number\n",
    "    GROUP BY p.cpc_section, p.cpc_class, p.publication_number\n",
    ")\n",
    "SELECT \n",
    "    cpc_section,\n",
    "    cpc_class,\n",
    "    SUM(claim_count) AS total_claims,\n",
    "    COUNT(DISTINCT publication_number) AS total_patents,\n",
    "    bround(SUM(claim_count) / COUNT(DISTINCT publication_number), 1) AS avg_claims_per_patent\n",
    "FROM patent_claims\n",
    "GROUP BY cpc_section, cpc_class\n",
    "HAVING COUNT(DISTINCT publication_number) >= 10\n",
    "ORDER BY avg_claims_per_patent DESC\n",
    "LIMIT 10;"
   ]
  },
  {
   "cell_type": "markdown",
   "metadata": {
    "application/vnd.databricks.v1+cell": {
     "cellMetadata": {},
     "inputWidgets": {},
     "nuid": "f339dd3e-f014-4456-bee3-7c915b8a6931",
     "showTitle": false,
     "tableResultSettingsMap": {},
     "title": ""
    }
   },
   "source": [
    "## Query 4: Top 5 Applicant Organizations by Average Claim Count\n"
   ]
  },
  {
   "cell_type": "code",
   "execution_count": 0,
   "metadata": {
    "application/vnd.databricks.v1+cell": {
     "cellMetadata": {
      "byteLimit": 2048000,
      "rowLimit": 10000
     },
     "inputWidgets": {},
     "nuid": "7fa6dfc4-3adb-4a2f-8c7f-20d5b6d0991b",
     "showTitle": false,
     "tableResultSettingsMap": {},
     "title": ""
    }
   },
   "outputs": [],
   "source": [
    "WITH applicant_patents AS (\n",
    "    SELECT \n",
    "        a.applicant_name,\n",
    "        a.publication_number\n",
    "    FROM patent_data.applicants_individual a\n",
    "    WHERE a.applicant_orgname IS NOT NULL  -- Focus on organizations only\n",
    "    GROUP BY a.applicant_name, a.publication_number\n",
    "),\n",
    "inventor_counts AS (\n",
    "    SELECT \n",
    "        ap.applicant_name,\n",
    "        ap.publication_number,\n",
    "        COUNT(DISTINCT i.inventor_name) AS inventor_count\n",
    "    FROM applicant_patents ap\n",
    "    LEFT JOIN patent_data.inventors_individual i\n",
    "        ON ap.publication_number = i.publication_number\n",
    "    GROUP BY ap.applicant_name, ap.publication_number\n",
    "),\n",
    "claim_counts AS (\n",
    "    SELECT \n",
    "        ap.applicant_name,\n",
    "        ap.publication_number,\n",
    "        COUNT(c.claim_id) AS claim_count\n",
    "    FROM applicant_patents ap\n",
    "    JOIN patent_data.claims_individual c\n",
    "        ON ap.publication_number = c.publication_number\n",
    "    GROUP BY ap.applicant_name, ap.publication_number\n",
    "),\n",
    "applicant_stats AS (\n",
    "    SELECT \n",
    "        ic.applicant_name,\n",
    "        COUNT(DISTINCT ic.publication_number) AS patent_count,\n",
    "        AVG(ic.inventor_count) AS avg_inventors_per_patent,\n",
    "        SUM(cc.claim_count) AS total_claims,\n",
    "        SUM(cc.claim_count) / COUNT(DISTINCT ic.publication_number) AS avg_claims_per_patent\n",
    "    FROM inventor_counts ic\n",
    "    JOIN claim_counts cc \n",
    "        ON ic.applicant_name = cc.applicant_name AND ic.publication_number = cc.publication_number\n",
    "    GROUP BY ic.applicant_name\n",
    "    HAVING COUNT(DISTINCT ic.publication_number) >= 3\n",
    ")\n",
    "SELECT \n",
    "    applicant_name,\n",
    "    patent_count,\n",
    "    bround(avg_claims_per_patent, 1) AS avg_claims_per_patent,\n",
    "    bround(avg_inventors_per_patent, 1) AS avg_inventors_per_patent\n",
    "FROM applicant_stats\n",
    "ORDER BY avg_claims_per_patent DESC\n",
    "LIMIT 5;"
   ]
  },
  {
   "cell_type": "markdown",
   "metadata": {
    "application/vnd.databricks.v1+cell": {
     "cellMetadata": {},
     "inputWidgets": {},
     "nuid": "94a0ec0a-16fc-4c38-b085-2ab5103b3976",
     "showTitle": false,
     "tableResultSettingsMap": {},
     "title": ""
    }
   },
   "source": [
    "## Query 5: Top 10 Patents with Keyword \"battery\" in Abstract or Claims"
   ]
  },
  {
   "cell_type": "code",
   "execution_count": 0,
   "metadata": {
    "application/vnd.databricks.v1+cell": {
     "cellMetadata": {
      "byteLimit": 2048000,
      "rowLimit": 10000
     },
     "inputWidgets": {},
     "nuid": "0df96fa9-2a54-4784-8478-f1d71d7e81a0",
     "showTitle": false,
     "tableResultSettingsMap": {},
     "title": ""
    }
   },
   "outputs": [],
   "source": [
    "WITH abstract_matches AS (\n",
    "    SELECT \n",
    "        publication_number,\n",
    "        CASE \n",
    "            WHEN lower(abstract) LIKE '%battery%' THEN 1\n",
    "            ELSE 0\n",
    "        END AS abstract_contains_battery\n",
    "    FROM patent_data.patents\n",
    "),\n",
    "claim_matches AS (\n",
    "    SELECT \n",
    "        publication_number,\n",
    "        SUM(CASE \n",
    "            WHEN lower(claim_text) LIKE '%battery%' THEN 1\n",
    "            ELSE 0\n",
    "        END) AS battery_claim_count\n",
    "    FROM patent_data.claims_individual\n",
    "    GROUP BY publication_number\n",
    "),\n",
    "combined_matches AS (\n",
    "    SELECT \n",
    "        p.publication_number,\n",
    "        p.invention_title,\n",
    "        COALESCE(am.abstract_contains_battery, 0) AS abstract_contains_battery,\n",
    "        COALESCE(cm.battery_claim_count, 0) AS battery_claim_count\n",
    "    FROM patent_data.patents p\n",
    "    LEFT JOIN abstract_matches am ON p.publication_number = am.publication_number\n",
    "    LEFT JOIN claim_matches cm ON p.publication_number = cm.publication_number\n",
    "    WHERE COALESCE(am.abstract_contains_battery, 0) = 1 OR COALESCE(cm.battery_claim_count, 0) > 0\n",
    ")\n",
    "SELECT \n",
    "    publication_number,\n",
    "    invention_title,\n",
    "    abstract_contains_battery,\n",
    "    battery_claim_count,\n",
    "    (abstract_contains_battery + battery_claim_count) AS total_battery_mentions\n",
    "FROM combined_matches\n",
    "ORDER BY total_battery_mentions DESC\n",
    "LIMIT 10;"
   ]
  }
 ],
 "metadata": {
  "application/vnd.databricks.v1+notebook": {
   "computePreferences": null,
   "dashboards": [],
   "environmentMetadata": {
    "base_environment": "",
    "environment_version": "2"
   },
   "language": "sql",
   "notebookMetadata": {
    "pythonIndentUnit": 4
   },
   "notebookName": "3.4 SQL Querying and Data Exploration",
   "widgets": {}
  },
  "language_info": {
   "name": "sql"
  }
 },
 "nbformat": 4,
 "nbformat_minor": 0
}
